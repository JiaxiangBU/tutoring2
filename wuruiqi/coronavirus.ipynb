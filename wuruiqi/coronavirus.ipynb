{
 "cells": [
  {
   "cell_type": "code",
   "execution_count": 1,
   "metadata": {},
   "outputs": [],
   "source": [
    "%load_ext blackcellmagic"
   ]
  },
  {
   "cell_type": "code",
   "execution_count": 7,
   "metadata": {},
   "outputs": [
    {
     "ename": "NameError",
     "evalue": "name 'OD' is not defined",
     "output_type": "error",
     "traceback": [
      "\u001b[1;31m---------------------------------------------------------------------------\u001b[0m",
      "\u001b[1;31mNameError\u001b[0m                                 Traceback (most recent call last)",
      "\u001b[1;32m<ipython-input-7-aa271ab2f1eb>\u001b[0m in \u001b[0;36m<module>\u001b[1;34m\u001b[0m\n\u001b[0;32m      2\u001b[0m \u001b[1;33m\u001b[0m\u001b[0m\n\u001b[0;32m      3\u001b[0m \u001b[1;31m# initialize the population vector from the origin-destination flow matrix\u001b[0m\u001b[1;33m\u001b[0m\u001b[1;33m\u001b[0m\u001b[1;33m\u001b[0m\u001b[0m\n\u001b[1;32m----> 4\u001b[1;33m \u001b[0mN_k\u001b[0m \u001b[1;33m=\u001b[0m \u001b[0mnp\u001b[0m\u001b[1;33m.\u001b[0m\u001b[0mabs\u001b[0m\u001b[1;33m(\u001b[0m\u001b[0mnp\u001b[0m\u001b[1;33m.\u001b[0m\u001b[0mdiagonal\u001b[0m\u001b[1;33m(\u001b[0m\u001b[0mOD\u001b[0m\u001b[1;33m)\u001b[0m \u001b[1;33m+\u001b[0m \u001b[0mOD\u001b[0m\u001b[1;33m.\u001b[0m\u001b[0msum\u001b[0m\u001b[1;33m(\u001b[0m\u001b[0maxis\u001b[0m\u001b[1;33m=\u001b[0m\u001b[1;36m0\u001b[0m\u001b[1;33m)\u001b[0m \u001b[1;33m-\u001b[0m \u001b[0mOD\u001b[0m\u001b[1;33m.\u001b[0m\u001b[0msum\u001b[0m\u001b[1;33m(\u001b[0m\u001b[0maxis\u001b[0m\u001b[1;33m=\u001b[0m\u001b[1;36m1\u001b[0m\u001b[1;33m)\u001b[0m\u001b[1;33m)\u001b[0m\u001b[1;33m\u001b[0m\u001b[1;33m\u001b[0m\u001b[0m\n\u001b[0m\u001b[0;32m      5\u001b[0m \u001b[0mlocs_len\u001b[0m \u001b[1;33m=\u001b[0m \u001b[0mlen\u001b[0m\u001b[1;33m(\u001b[0m\u001b[0mN_k\u001b[0m\u001b[1;33m)\u001b[0m  \u001b[1;31m# number of locations\u001b[0m\u001b[1;33m\u001b[0m\u001b[1;33m\u001b[0m\u001b[0m\n\u001b[0;32m      6\u001b[0m SIR = np.zeros(\n",
      "\u001b[1;31mNameError\u001b[0m: name 'OD' is not defined"
     ]
    }
   ],
   "source": [
    "import numpy as np\n",
    "\n",
    "# initialize the population vector from the origin-destination flow matrix\n",
    "N_k = np.abs(np.diagonal(OD) + OD.sum(axis=0) - OD.sum(axis=1))\n",
    "locs_len = len(N_k)  # number of locations\n",
    "SIR = np.zeros(\n",
    "    shape=(locs_len, 3)\n",
    ")  # make a numpy array with 3 columns for keeping track of the S, I, R groups\n",
    "SIR[:, 0] = N_k  # initialize the S group with the respective populations\n",
    "\n",
    "first_infections = np.where(\n",
    "    SIR[:, 0] <= thresh, SIR[:, 0] // 20, 0\n",
    ")  # for demo purposes, randomly introduce infections\n",
    "SIR[:, 0] = SIR[:, 0] - first_infections\n",
    "SIR[:, 1] = SIR[:, 1] + first_infections  # move infections to the I group\n",
    "\n",
    "# row normalize the SIR matrix for keeping track of group proportions\n",
    "row_sums = SIR.sum(axis=1)\n",
    "SIR_n = SIR / row_sums[:, np.newaxis]\n",
    "\n",
    "# initialize parameters\n",
    "beta = 1.6\n",
    "gamma = 0.04\n",
    "public_trans = 0.5  # alpha\n",
    "R0 = beta / gamma\n",
    "beta_vec = np.random.gamma(1.6, 2, locs_len)\n",
    "gamma_vec = np.full(locs_len, gamma)\n",
    "public_trans_vec = np.full(locs_len, public_trans)\n",
    "\n",
    "# make copy of the SIR matrices\n",
    "SIR_sim = SIR.copy()\n",
    "SIR_nsim = SIR_n.copy()\n",
    "\n",
    "# run model\n",
    "print(SIR_sim.sum(axis=0).sum() == N_k.sum())\n",
    "from tqdm import tqdm_notebook\n",
    "\n",
    "infected_pop_norm = []\n",
    "susceptible_pop_norm = []\n",
    "recovered_pop_norm = []"
   ]
  },
  {
   "cell_type": "markdown",
   "metadata": {},
   "source": [
    "> For this analysis, we will use the aggregated $OD$ flow matrix of a typical day obtained from GPS data provided by local ride sharing company gg as a proxy for the mobility patterns in Yerevan city.\n",
    "\n",
    "这是 OD 的定义。\n",
    "需要在 https://www.ggtaxi.com/signin 下载。"
   ]
  },
  {
   "cell_type": "markdown",
   "metadata": {},
   "source": [
    "> Next, we need the population counts in each 250×250 m grid cell, which we approximate by proportionally scaling the extracted flow counts so that the total inflows in different locations sum up to approximately half of Yerevan’s population of 1.1 million. This is actually a bold assumption, but since varying this portion yielded very similar results, we will stick to it.\n",
    "\n",
    "然后下载后的数据做一个计数矩阵，进行标准化处理即可。\n",
    "这部分你可以把数据下载下来后，我这边处理。"
   ]
  },
  {
   "cell_type": "code",
   "execution_count": null,
   "metadata": {},
   "outputs": [],
   "source": [
    "for time_step in tqdm_notebook(range(100)):\n",
    "    infected_mat = np.array([SIR_nsim[:,1],]*locs_len).transpose()\n",
    "    OD_infected = np.round(OD*infected_mat)\n",
    "    inflow_infected = OD_infected.sum(axis=0)\n",
    "    inflow_infected = np.round(inflow_infected*public_trans_vec)\n",
    "    print('total infected inflow: ', inflow_infected.sum())\n",
    "    new_infect = beta_vec*SIR_sim[:, 0]*inflow_infected/(N_k + OD.sum(axis=0))\n",
    "    new_recovered = gamma_vec*SIR_sim[:, 1]\n",
    "    new_infect = np.where(new_infect>SIR_sim[:, 0], SIR_sim[:, 0], new_infect)\n",
    "    SIR_sim[:, 0] = SIR_sim[:, 0] - new_infect\n",
    "    SIR_sim[:, 1] = SIR_sim[:, 1] + new_infect - new_recovered\n",
    "    SIR_sim[:, 2] = SIR_sim[:, 2] + new_recovered\n",
    "    SIR_sim = np.where(SIR_sim<0,0,SIR_sim)\n",
    "    # recompute the normalized SIR matrix\n",
    "    row_sums = SIR_sim.sum(axis=1)\n",
    "    SIR_nsim = SIR_sim / row_sums[:, np.newaxis]\n",
    "    S = SIR_sim[:,0].sum()/N_k.sum()\n",
    "    I = SIR_sim[:,1].sum()/N_k.sum()\n",
    "    R = SIR_sim[:,2].sum()/N_k.sum()\n",
    "    print(S, I, R, (S+I+R)*N_k.sum(), N_k.sum())\n",
    "    print('\\n')\n",
    "    infected_pop_norm.append(I)\n",
    "    susceptible_pop_norm.append(S)\n",
    "    recovered_pop_norm.append(R)"
   ]
  }
 ],
 "metadata": {
  "kernelspec": {
   "display_name": "Python 3",
   "language": "python",
   "name": "python3"
  },
  "language_info": {
   "codemirror_mode": {
    "name": "ipython",
    "version": 3
   },
   "file_extension": ".py",
   "mimetype": "text/x-python",
   "name": "python",
   "nbconvert_exporter": "python",
   "pygments_lexer": "ipython3",
   "version": "3.7.3"
  }
 },
 "nbformat": 4,
 "nbformat_minor": 2
}
