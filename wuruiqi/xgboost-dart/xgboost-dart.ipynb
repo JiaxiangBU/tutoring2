{
 "cells": [
  {
   "cell_type": "markdown",
   "metadata": {
    "toc": true
   },
   "source": [
    "<h1>Table of Contents<span class=\"tocSkip\"></span></h1>\n",
    "<div class=\"toc\"><ul class=\"toc-item\"></ul></div>"
   ]
  },
  {
   "cell_type": "markdown",
   "metadata": {},
   "source": [
    "参考 https://xgboost.readthedocs.io/en/latest/tutorials/dart.html"
   ]
  },
  {
   "cell_type": "code",
   "execution_count": 7,
   "metadata": {},
   "outputs": [
    {
     "name": "stdout",
     "output_type": "stream",
     "text": [
      "[11:17:18] 6513x127 matrix with 143286 entries loaded from ../../../xgboost/demo/data/agaricus.txt.train\n",
      "[11:17:18] 1611x127 matrix with 35442 entries loaded from ../../../xgboost/demo/data/agaricus.txt.test\n",
      "dart\n"
     ]
    }
   ],
   "source": [
    "import xgboost as xgb\n",
    "# read in data\n",
    "dtrain = xgb.DMatrix('../../../xgboost/demo/data/agaricus.txt.train')\n",
    "dtest = xgb.DMatrix('../../../xgboost/demo/data/agaricus.txt.test')\n",
    "# specify parameters via map\n",
    "param = {'booster': 'dart',\n",
    "         'max_depth': 5, 'learning_rate': 0.1,\n",
    "         'objective': 'binary:logistic', 'silent': True,\n",
    "         'sample_type': 'uniform',\n",
    "         'normalize_type': 'tree',\n",
    "         'rate_drop': 0.1,\n",
    "         'skip_drop': 0.5}\n",
    "num_round = 50\n",
    "bst = xgb.train(param, dtrain, num_round)\n",
    "# make prediction\n",
    "# ntree_limit must not be 0\n",
    "preds = bst.predict(dtest, ntree_limit=num_round)\n",
    "print(bst.booster)"
   ]
  },
  {
   "cell_type": "markdown",
   "metadata": {},
   "source": [
    "`.booster`这个参数是 Python 3 的。"
   ]
  },
  {
   "cell_type": "markdown",
   "metadata": {},
   "source": [
    "测试 @wuruiqi 给的超参数"
   ]
  },
  {
   "cell_type": "code",
   "execution_count": 12,
   "metadata": {},
   "outputs": [
    {
     "name": "stdout",
     "output_type": "stream",
     "text": [
      "[11:20:30] 6513x127 matrix with 143286 entries loaded from ../../../xgboost/demo/data/agaricus.txt.train\n",
      "[11:20:30] 1611x127 matrix with 35442 entries loaded from ../../../xgboost/demo/data/agaricus.txt.test\n",
      "dart\n"
     ]
    }
   ],
   "source": [
    "import xgboost as xgb\n",
    "# read in data\n",
    "dtrain = xgb.DMatrix('../../../xgboost/demo/data/agaricus.txt.train')\n",
    "dtest = xgb.DMatrix('../../../xgboost/demo/data/agaricus.txt.test')\n",
    "# specify parameters via map\n",
    "param = {'booster': 'dart',\n",
    "         'max_depth': 6, 'learning_rate': 0.1,\n",
    "         'objective': 'binary:logistic', 'silent': True,\n",
    "         'sample_type': 'uniform',\n",
    "         'normalize_type': 'tree',\n",
    "         'rate_drop': 0.2,\n",
    "         'skip_drop': 0.5,\n",
    "         'subsample': 0.8, 'colsample_bytree': 0.8,\n",
    "         'alpha': 2, 'lambda': 2,\n",
    "         'eta': 0.1, 'eval_metric': 'error'\n",
    "        }\n",
    "num_round = 2\n",
    "bst = xgb.train(param, dtrain, num_round)\n",
    "print(bst.booster)"
   ]
  },
  {
   "cell_type": "markdown",
   "metadata": {},
   "source": [
    "因此可以认为这可能是 y 变量的问题。"
   ]
  },
  {
   "cell_type": "code",
   "execution_count": 13,
   "metadata": {},
   "outputs": [
    {
     "data": {
      "text/plain": [
       "array([1., 0., 0., ..., 0., 0., 0.], dtype=float32)"
      ]
     },
     "execution_count": 13,
     "metadata": {},
     "output_type": "execute_result"
    }
   ],
   "source": [
    "dtrain.get_label()"
   ]
  }
 ],
 "metadata": {
  "kernelspec": {
   "display_name": "Python 3",
   "language": "python",
   "name": "python3"
  },
  "language_info": {
   "codemirror_mode": {
    "name": "ipython",
    "version": 3
   },
   "file_extension": ".py",
   "mimetype": "text/x-python",
   "name": "python",
   "nbconvert_exporter": "python",
   "pygments_lexer": "ipython3",
   "version": "3.5.4"
  },
  "latex_envs": {
   "LaTeX_envs_menu_present": true,
   "autoclose": true,
   "autocomplete": true,
   "bibliofile": "biblio.bib",
   "cite_by": "apalike",
   "current_citInitial": 1,
   "eqLabelWithNumbers": true,
   "eqNumInitial": 1,
   "hotkeys": {
    "equation": "Ctrl-E",
    "itemize": "Ctrl-I"
   },
   "labels_anchors": false,
   "latex_user_defs": false,
   "report_style_numbering": false,
   "user_envs_cfg": false
  },
  "toc": {
   "base_numbering": 1,
   "nav_menu": {},
   "number_sections": true,
   "sideBar": true,
   "skip_h1_title": false,
   "title_cell": "Table of Contents",
   "title_sidebar": "Contents",
   "toc_cell": true,
   "toc_position": {},
   "toc_section_display": true,
   "toc_window_display": false
  }
 },
 "nbformat": 4,
 "nbformat_minor": 2
}
