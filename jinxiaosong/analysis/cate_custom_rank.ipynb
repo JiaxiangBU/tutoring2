{
 "cells": [
  {
   "cell_type": "code",
   "execution_count": 1,
   "metadata": {},
   "outputs": [],
   "source": [
    "import pandas as pd"
   ]
  },
  {
   "cell_type": "code",
   "execution_count": 10,
   "metadata": {},
   "outputs": [],
   "source": [
    "df = pd.read_csv(\"../refs/cate_custom_rank.csv\")\n",
    "df = df.rename(columns = {'a_score_old_na_bins':'x'})\n",
    "# 数据表更加通用"
   ]
  },
  {
   "cell_type": "markdown",
   "metadata": {},
   "source": [
    "参考 https://jiaxiangbu.github.io/learn_python/analysis/pandas/learning_notes.html"
   ]
  },
  {
   "cell_type": "code",
   "execution_count": 29,
   "metadata": {},
   "outputs": [],
   "source": [
    "import numpy as np"
   ]
  },
  {
   "cell_type": "code",
   "execution_count": 43,
   "metadata": {},
   "outputs": [
    {
     "data": {
      "text/plain": [
       "[False,\n",
       " False,\n",
       " False,\n",
       " False,\n",
       " False,\n",
       " False,\n",
       " False,\n",
       " False,\n",
       " False,\n",
       " False,\n",
       " False,\n",
       " True]"
      ]
     },
     "execution_count": 43,
     "metadata": {},
     "output_type": "execute_result"
    }
   ],
   "source": [
    "[i is np.nan for i in df.x]"
   ]
  },
  {
   "cell_type": "code",
   "execution_count": 54,
   "metadata": {},
   "outputs": [
    {
     "data": {
      "text/plain": [
       "9      (640, 685]\n",
       "8      (624, 640]\n",
       "7      (609, 624]\n",
       "6      (599, 609]\n",
       "5      (586, 599]\n",
       "4      (575, 586]\n",
       "3      (557, 575]\n",
       "2      (534, 557]\n",
       "1      (506, 534]\n",
       "0     (-999, 506]\n",
       "11            NaN\n",
       "10           -999\n",
       "Name: x, dtype: object"
      ]
     },
     "execution_count": 54,
     "metadata": {},
     "output_type": "execute_result"
    }
   ],
   "source": [
    "df.assign(**{'is_neg_999': df.x == \"-999\", \n",
    "             'is_nan': [i is np.nan for i in df.x]}) \\\n",
    "    .sort_values(['is_neg_999', 'is_nan', 'x'], ascending=[1, 1, 0]) \\\n",
    "    .x\n",
    "# prog in pipeline."
   ]
  },
  {
   "cell_type": "markdown",
   "metadata": {},
   "source": [
    "![image](https://user-images.githubusercontent.com/15884785/64810298-b698f400-d5cd-11e9-9fea-8b9c9b95ec38.png)\n"
   ]
  }
 ],
 "metadata": {
  "kernelspec": {
   "display_name": "Python 3",
   "language": "python",
   "name": "python3"
  },
  "language_info": {
   "codemirror_mode": {
    "name": "ipython",
    "version": 3
   },
   "file_extension": ".py",
   "mimetype": "text/x-python",
   "name": "python",
   "nbconvert_exporter": "python",
   "pygments_lexer": "ipython3",
   "version": "3.7.1"
  }
 },
 "nbformat": 4,
 "nbformat_minor": 2
}
