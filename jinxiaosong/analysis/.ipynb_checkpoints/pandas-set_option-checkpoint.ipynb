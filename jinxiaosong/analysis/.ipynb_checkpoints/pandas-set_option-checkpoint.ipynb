{
 "cells": [
  {
   "cell_type": "code",
   "execution_count": 12,
   "metadata": {},
   "outputs": [
    {
     "name": "stdout",
     "output_type": "stream",
     "text": [
      "species\n",
      "setosa       5.01\n",
      "versicolor   5.94\n",
      "virginica    6.59\n",
      "Name: sepal_length, dtype: float64\n",
      "species\n",
      "setosa       5.01\n",
      "versicolor   5.94\n",
      "virginica    6.59\n",
      "Name: sepal_length, dtype: float64\n",
      "species\n",
      "setosa       5.01\n",
      "versicolor   5.94\n",
      "virginica    6.59\n",
      "Name: sepal_length, dtype: float64\n"
     ]
    }
   ],
   "source": [
    "import pandas as pd\n",
    "import seaborn as sns\n",
    "iris = sns.load_dataset('iris')\n",
    "\n",
    "## 默认小数\n",
    "iris.groupby('species')['sepal_length'].mean().pipe(print)\n",
    "\n",
    "\n",
    "## 一位小数\n",
    "pd.set_option('display.float_format', '{:.2f}'.format)\n",
    "iris.groupby('species')['sepal_length'].mean().pipe(print)\n",
    "\n",
    "\n",
    "## 不设置，但是上面的设置同样起作用，但是我不想让它起作用\n",
    "iris.groupby('species')['sepal_length'].mean().pipe(print)"
   ]
  },
  {
   "cell_type": "markdown",
   "metadata": {},
   "source": [
    "其实一个的话，使用一个 apply 自定义函数即可，参考 https://stackoverflow.com/a/51898492/8625228"
   ]
  },
  {
   "cell_type": "code",
   "execution_count": 14,
   "metadata": {},
   "outputs": [
    {
     "name": "stdout",
     "output_type": "stream",
     "text": [
      "species\n",
      "setosa        5.006\n",
      "versicolor    5.936\n",
      "virginica     6.588\n",
      "Name: sepal_length, dtype: object\n"
     ]
    }
   ],
   "source": [
    "iris.groupby('species')['sepal_length'].mean().apply(lambda x: \"{:,.3f}\".format(x)).pipe(print)"
   ]
  }
 ],
 "metadata": {
  "kernelspec": {
   "display_name": "Python 3",
   "language": "python",
   "name": "python3"
  },
  "language_info": {
   "codemirror_mode": {
    "name": "ipython",
    "version": 3
   },
   "file_extension": ".py",
   "mimetype": "text/x-python",
   "name": "python",
   "nbconvert_exporter": "python",
   "pygments_lexer": "ipython3",
   "version": "3.7.3"
  }
 },
 "nbformat": 4,
 "nbformat_minor": 2
}
