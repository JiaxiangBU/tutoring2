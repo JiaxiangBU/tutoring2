{
 "cells": [
  {
   "cell_type": "code",
   "execution_count": 43,
   "metadata": {},
   "outputs": [],
   "source": [
    "import pandas as pd\n",
    "import numpy as np\n",
    "\n",
    "df = pd.read_csv(\"../refs/qcut_help.csv\")\n",
    "df2 = df.copy()"
   ]
  },
  {
   "cell_type": "code",
   "execution_count": 19,
   "metadata": {},
   "outputs": [
    {
     "data": {
      "text/html": [
       "<div>\n",
       "<style scoped>\n",
       "    .dataframe tbody tr th:only-of-type {\n",
       "        vertical-align: middle;\n",
       "    }\n",
       "\n",
       "    .dataframe tbody tr th {\n",
       "        vertical-align: top;\n",
       "    }\n",
       "\n",
       "    .dataframe thead th {\n",
       "        text-align: right;\n",
       "    }\n",
       "</style>\n",
       "<table border=\"1\" class=\"dataframe\">\n",
       "  <thead>\n",
       "    <tr style=\"text-align: right;\">\n",
       "      <th></th>\n",
       "      <th>V1</th>\n",
       "    </tr>\n",
       "  </thead>\n",
       "  <tbody>\n",
       "    <tr>\n",
       "      <th>0</th>\n",
       "      <td>-1</td>\n",
       "    </tr>\n",
       "    <tr>\n",
       "      <th>1</th>\n",
       "      <td>-1</td>\n",
       "    </tr>\n",
       "    <tr>\n",
       "      <th>2</th>\n",
       "      <td>-1</td>\n",
       "    </tr>\n",
       "    <tr>\n",
       "      <th>3</th>\n",
       "      <td>-1</td>\n",
       "    </tr>\n",
       "    <tr>\n",
       "      <th>4</th>\n",
       "      <td>-1</td>\n",
       "    </tr>\n",
       "  </tbody>\n",
       "</table>\n",
       "</div>"
      ],
      "text/plain": [
       "   V1\n",
       "0  -1\n",
       "1  -1\n",
       "2  -1\n",
       "3  -1\n",
       "4  -1"
      ]
     },
     "execution_count": 19,
     "metadata": {},
     "output_type": "execute_result"
    }
   ],
   "source": [
    "df.head()"
   ]
  },
  {
   "cell_type": "code",
   "execution_count": 20,
   "metadata": {},
   "outputs": [
    {
     "data": {
      "text/plain": [
       "-999               10000\n",
       "(-1.001, 100.0]      100\n",
       "Name: V1_bin_2, dtype: int64"
      ]
     },
     "execution_count": 20,
     "metadata": {},
     "output_type": "execute_result"
    }
   ],
   "source": [
    "## 方法一\n",
    "\n",
    "df['V1_bin_2'] = np.where(df['V1'] < 0, '-999', pd.qcut(df['V1'], q=10, duplicates='drop').astype('str'))\n",
    "df['V1_bin_2'].value_counts()"
   ]
  },
  {
   "cell_type": "code",
   "execution_count": 21,
   "metadata": {},
   "outputs": [
    {
     "data": {
      "text/html": [
       "<div>\n",
       "<style scoped>\n",
       "    .dataframe tbody tr th:only-of-type {\n",
       "        vertical-align: middle;\n",
       "    }\n",
       "\n",
       "    .dataframe tbody tr th {\n",
       "        vertical-align: top;\n",
       "    }\n",
       "\n",
       "    .dataframe thead th {\n",
       "        text-align: right;\n",
       "    }\n",
       "</style>\n",
       "<table border=\"1\" class=\"dataframe\">\n",
       "  <thead>\n",
       "    <tr style=\"text-align: right;\">\n",
       "      <th></th>\n",
       "      <th>V1</th>\n",
       "      <th>V1_bin_2</th>\n",
       "    </tr>\n",
       "  </thead>\n",
       "  <tbody>\n",
       "    <tr>\n",
       "      <th>0</th>\n",
       "      <td>-1</td>\n",
       "      <td>-999</td>\n",
       "    </tr>\n",
       "    <tr>\n",
       "      <th>1</th>\n",
       "      <td>-1</td>\n",
       "      <td>-999</td>\n",
       "    </tr>\n",
       "    <tr>\n",
       "      <th>2</th>\n",
       "      <td>-1</td>\n",
       "      <td>-999</td>\n",
       "    </tr>\n",
       "    <tr>\n",
       "      <th>3</th>\n",
       "      <td>-1</td>\n",
       "      <td>-999</td>\n",
       "    </tr>\n",
       "    <tr>\n",
       "      <th>4</th>\n",
       "      <td>-1</td>\n",
       "      <td>-999</td>\n",
       "    </tr>\n",
       "  </tbody>\n",
       "</table>\n",
       "</div>"
      ],
      "text/plain": [
       "   V1 V1_bin_2\n",
       "0  -1     -999\n",
       "1  -1     -999\n",
       "2  -1     -999\n",
       "3  -1     -999\n",
       "4  -1     -999"
      ]
     },
     "execution_count": 21,
     "metadata": {},
     "output_type": "execute_result"
    }
   ],
   "source": [
    "df.head()"
   ]
  },
  {
   "cell_type": "code",
   "execution_count": 22,
   "metadata": {},
   "outputs": [
    {
     "data": {
      "text/plain": [
       "-999             10000\n",
       "(10.9, 20.8]        10\n",
       "(0.9, 10.9]         10\n",
       "(70.3, 80.2]        10\n",
       "(50.5, 60.4]        10\n",
       "(30.7, 40.6]        10\n",
       "(20.8, 30.7]        10\n",
       "(60.4, 70.3]        10\n",
       "(40.6, 50.5]        10\n",
       "(90.1, 100.0]       10\n",
       "(80.2, 90.1]        10\n",
       "Name: V1_bin, dtype: int64"
      ]
     },
     "execution_count": 22,
     "metadata": {},
     "output_type": "execute_result"
    }
   ],
   "source": [
    "## 方法二\n",
    "\n",
    "df.loc[df['V1'] < 0, 'V1'+'_bin'] = '-999'\n",
    "df.loc[df['V1'] >= 0, 'V1'+'_bin'] = pd.qcut(df.loc[df['V1'] >= 0, 'V1'], q=10, duplicates='drop', precision=1)\n",
    "df['V1'+'_bin']=df['V1'+'_bin'].astype('str')\n",
    "\n",
    "df['V1_bin'].value_counts()"
   ]
  },
  {
   "cell_type": "code",
   "execution_count": 44,
   "metadata": {},
   "outputs": [
    {
     "name": "stdout",
     "output_type": "stream",
     "text": [
      "   V1\n",
      "0  -1\n",
      "1  -1\n",
      "2  -1\n",
      "3  -1\n",
      "4  -1\n",
      "                 V1\n",
      "count  10100.000000\n",
      "mean      -0.490099\n",
      "std        5.852631\n",
      "min       -1.000000\n",
      "25%       -1.000000\n",
      "50%       -1.000000\n",
      "75%       -1.000000\n",
      "max      100.000000\n"
     ]
    }
   ],
   "source": [
    "## 方法三\n",
    "\n",
    "print(df2.head())\n",
    "print(df2.describe())"
   ]
  },
  {
   "cell_type": "code",
   "execution_count": 31,
   "metadata": {},
   "outputs": [],
   "source": [
    "import numpy as np"
   ]
  },
  {
   "cell_type": "code",
   "execution_count": 34,
   "metadata": {},
   "outputs": [],
   "source": [
    "df2[df2 < 0] = np.nan"
   ]
  },
  {
   "cell_type": "code",
   "execution_count": 41,
   "metadata": {},
   "outputs": [
    {
     "data": {
      "text/plain": [
       "-999             10000\n",
       "(90.1, 100.0]       10\n",
       "(80.2, 90.1]        10\n",
       "(70.3, 80.2]        10\n",
       "(60.4, 70.3]        10\n",
       "(50.5, 60.4]        10\n",
       "(40.6, 50.5]        10\n",
       "(30.7, 40.6]        10\n",
       "(20.8, 30.7]        10\n",
       "(10.9, 20.8]        10\n",
       "(0.9, 10.9]         10\n",
       "Name: V1, dtype: int64"
      ]
     },
     "execution_count": 41,
     "metadata": {},
     "output_type": "execute_result"
    }
   ],
   "source": [
    "pd.qcut(df2[\"V1\"], q=10, duplicates='drop', precision=1) \\\n",
    "    .cat.add_categories(['-999']) \\\n",
    "    .fillna('-999').value_counts()"
   ]
  }
 ],
 "metadata": {
  "kernelspec": {
   "display_name": "Python 3",
   "language": "python",
   "name": "python3"
  },
  "language_info": {
   "codemirror_mode": {
    "name": "ipython",
    "version": 3
   },
   "file_extension": ".py",
   "mimetype": "text/x-python",
   "name": "python",
   "nbconvert_exporter": "python",
   "pygments_lexer": "ipython3",
   "version": "3.7.1"
  }
 },
 "nbformat": 4,
 "nbformat_minor": 2
}
