{
 "cells": [
  {
   "cell_type": "code",
   "execution_count": 2,
   "metadata": {},
   "outputs": [],
   "source": [
    "import pandas as pd"
   ]
  },
  {
   "cell_type": "code",
   "execution_count": 5,
   "metadata": {},
   "outputs": [],
   "source": [
    "df1 = pd.DataFrame({\"index\": range(1,10), \"a\": range(1,10)})\n",
    "df2 = df3 = df4 = df1"
   ]
  },
  {
   "cell_type": "code",
   "execution_count": 39,
   "metadata": {},
   "outputs": [
    {
     "name": "stdout",
     "output_type": "stream",
     "text": [
      "   index  a\n",
      "0      1  1\n",
      "1      2  2\n",
      "2      3  3\n",
      "3      4  4\n",
      "4      5  5\n",
      "   index  a\n",
      "0      1  1\n",
      "1      2  2\n",
      "2      3  3\n",
      "3      4  4\n",
      "4      5  5\n",
      "   index  a\n",
      "0      1  1\n",
      "1      2  2\n",
      "2      3  3\n",
      "3      4  4\n",
      "4      5  5\n",
      "   index  a\n",
      "0      1  1\n",
      "1      2  2\n",
      "2      3  3\n",
      "3      4  4\n",
      "4      5  5\n"
     ]
    },
    {
     "data": {
      "text/plain": [
       "[None, None, None, None]"
      ]
     },
     "execution_count": 39,
     "metadata": {},
     "output_type": "execute_result"
    }
   ],
   "source": [
    "[(lambda df: df.head().pipe(print))(df) for df in [df1,df2,df3,df4]]"
   ]
  },
  {
   "cell_type": "markdown",
   "metadata": {},
   "source": [
    "参考 https://stackoverflow.com/a/40250460/8625228"
   ]
  },
  {
   "cell_type": "code",
   "execution_count": 31,
   "metadata": {},
   "outputs": [
    {
     "name": "stdout",
     "output_type": "stream",
     "text": [
      "   index  a_x  a_y  a_x  a_y\n",
      "0      1    1    1    1    1\n",
      "1      2    2    2    2    2\n",
      "2      3    3    3    3    3\n",
      "3      4    4    4    4    4\n",
      "4      5    5    5    5    5\n"
     ]
    }
   ],
   "source": [
    "df = df1\n",
    "for i in [df2,df3,df4]:\n",
    "    df = df.merge(i, on='index', how = 'left')\n",
    "df.head().pipe(print)"
   ]
  },
  {
   "cell_type": "code",
   "execution_count": 32,
   "metadata": {},
   "outputs": [],
   "source": [
    "from functools import reduce"
   ]
  },
  {
   "cell_type": "markdown",
   "metadata": {},
   "source": [
    "`reduce?`\n",
    "\n",
    "```python\n",
    "reduce(function, sequence[, initial]) -> value\n",
    "```\n",
    "\n",
    "Apply a function of two arguments cumulatively to the items of a sequence,\n",
    "from left to right, so as to reduce the sequence to a single value.\n",
    "For example, reduce(lambda x, y: x+y, [1, 2, 3, 4, 5]) calculates\n",
    "((((1+2)+3)+4)+5).  If initial is present, it is placed before the items\n",
    "of the sequence in the calculation, and serves as a default when the\n",
    "sequence is empty.\n",
    "\n",
    "参考 https://stackoverflow.com/a/30512931/8625228"
   ]
  },
  {
   "cell_type": "code",
   "execution_count": 38,
   "metadata": {},
   "outputs": [
    {
     "name": "stdout",
     "output_type": "stream",
     "text": [
      "   index  a_x  a_y  a_x  a_y\n",
      "0      1    1    1    1    1\n",
      "1      2    2    2    2    2\n",
      "2      3    3    3    3    3\n",
      "3      4    4    4    4    4\n",
      "4      5    5    5    5    5\n",
      "5      6    6    6    6    6\n",
      "6      7    7    7    7    7\n",
      "7      8    8    8    8    8\n",
      "8      9    9    9    9    9\n"
     ]
    }
   ],
   "source": [
    "reduce(lambda a, b: pd.merge(a,b,on='index',how='left'), [df1,df2,df3,df4]).pipe(print)"
   ]
  }
 ],
 "metadata": {
  "kernelspec": {
   "display_name": "Python 3",
   "language": "python",
   "name": "python3"
  },
  "language_info": {
   "codemirror_mode": {
    "name": "ipython",
    "version": 3
   },
   "file_extension": ".py",
   "mimetype": "text/x-python",
   "name": "python",
   "nbconvert_exporter": "python",
   "pygments_lexer": "ipython3",
   "version": "3.7.0"
  },
  "latex_envs": {
   "LaTeX_envs_menu_present": true,
   "autoclose": true,
   "autocomplete": true,
   "bibliofile": "biblio.bib",
   "cite_by": "apalike",
   "current_citInitial": 1,
   "eqLabelWithNumbers": true,
   "eqNumInitial": 1,
   "hotkeys": {
    "equation": "Ctrl-E",
    "itemize": "Ctrl-I"
   },
   "labels_anchors": false,
   "latex_user_defs": false,
   "report_style_numbering": false,
   "user_envs_cfg": false
  }
 },
 "nbformat": 4,
 "nbformat_minor": 2
}
