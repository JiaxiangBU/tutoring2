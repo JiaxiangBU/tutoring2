{
 "cells": [
  {
   "cell_type": "markdown",
   "metadata": {},
   "source": [
    "参考 https://realpython.com/python-input-output/"
   ]
  },
  {
   "cell_type": "markdown",
   "metadata": {},
   "source": [
    "```python\n",
    "<format_string> % <values>\n",
    "# syntax\n",
    "```\n",
    "\n",
    "这是 Python 语法，类似于`glue::glue()`"
   ]
  },
  {
   "cell_type": "code",
   "execution_count": 1,
   "metadata": {},
   "outputs": [
    {
     "data": {
      "text/plain": [
       "'6 bananas cost $1.74'"
      ]
     },
     "execution_count": 1,
     "metadata": {},
     "output_type": "execute_result"
    }
   ],
   "source": [
    "'%d %s cost $%.2f' % (6, 'bananas', 1.74)"
   ]
  },
  {
   "cell_type": "markdown",
   "metadata": {},
   "source": [
    "> 1. The first item in the tuple is 6, a numeric value that replaces '%d' in the format string.\n",
    "> 1. The next item is the string value 'bananas', which replaces '%s'.\n",
    "> 1. The last item is the float value 1.74, which replaces '%.2f'.\n"
   ]
  },
  {
   "cell_type": "markdown",
   "metadata": {},
   "source": [
    "`()` 是把对象封装成 tuple，`%`对引入参数的要求。"
   ]
  },
  {
   "cell_type": "markdown",
   "metadata": {},
   "source": [
    "![image](https://user-images.githubusercontent.com/15884785/66798901-f4c56280-ef41-11e9-9930-e973bea6a9c2.png)\n"
   ]
  },
  {
   "cell_type": "markdown",
   "metadata": {},
   "source": [
    "然后开始区别`s`, `r`, `a`"
   ]
  },
  {
   "cell_type": "markdown",
   "metadata": {},
   "source": [
    "> s, r, and a produce string output using the built-in functions str(), repr(), and ascii()"
   ]
  },
  {
   "cell_type": "code",
   "execution_count": 5,
   "metadata": {},
   "outputs": [
    {
     "name": "stdout",
     "output_type": "stream",
     "text": [
      "'\\u6211'\n",
      "'我'\n",
      "我\n"
     ]
    }
   ],
   "source": [
    "print('%a' % ('我'))\n",
    "print('%r' % ('我'))\n",
    "print('%s' % ('我'))"
   ]
  },
  {
   "cell_type": "markdown",
   "metadata": {},
   "source": [
    "看下对应函数的 help 文档即可。"
   ]
  },
  {
   "cell_type": "code",
   "execution_count": 8,
   "metadata": {},
   "outputs": [
    {
     "name": "stdout",
     "output_type": "stream",
     "text": [
      "Return the canonical string representation of the object.\n",
      "\n",
      "For many object types, including most builtins, eval(repr(obj)) == obj.\n"
     ]
    }
   ],
   "source": [
    "print(repr.__doc__)"
   ]
  },
  {
   "cell_type": "markdown",
   "metadata": {},
   "source": [
    "这个地方 `r` 反馈的是文本的**表达式**，因此是`'我'`，而不是结果`我`。\n",
    "当使用函数`eval`实现表达式后，结果就相等了。"
   ]
  },
  {
   "cell_type": "code",
   "execution_count": 12,
   "metadata": {},
   "outputs": [
    {
     "data": {
      "text/plain": [
       "True"
      ]
     },
     "execution_count": 12,
     "metadata": {},
     "output_type": "execute_result"
    }
   ],
   "source": [
    "eval(repr(\"我\")) == \"我\""
   ]
  },
  {
   "cell_type": "code",
   "execution_count": 14,
   "metadata": {},
   "outputs": [
    {
     "name": "stdout",
     "output_type": "stream",
     "text": [
      "Return an ASCII-only representation of an object.\n",
      "\n",
      "As repr(), return a string containing a printable representation of an\n",
      "object, but escape the non-ASCII characters in the string returned by\n",
      "repr() using \\\\x, \\\\u or \\\\U escapes. This generates a string similar\n",
      "to that returned by repr() in Python 2.\n"
     ]
    }
   ],
   "source": [
    "print(ascii.__doc__)"
   ]
  },
  {
   "cell_type": "markdown",
   "metadata": {},
   "source": [
    "当文本是非ASCII字体时，用`\\\\x, \\\\u or \\\\U`代替，因为ASCII的字符只能有限的代表256个。"
   ]
  },
  {
   "cell_type": "markdown",
   "metadata": {},
   "source": [
    "感兴趣的话可以看看这个微信文章。\n",
    "\n",
    "```bibtex\n",
    "@online{阮一峰2019,\n",
    "  author = {阮一峰},\n",
    "  title = {【底层原理】字符编码笔记：ASCII，Unicode 和 UTF-8},\n",
    "  year = 2019,\n",
    "  howpublished = {码农有道},\n",
    "  url = {https://mp.weixin.qq.com/s/W2esUPTSicdIwzxJIyoBjg},\n",
    "  urldate = {2019-10-15}\n",
    "}\n",
    "```"
   ]
  }
 ],
 "metadata": {
  "kernelspec": {
   "display_name": "Python 3",
   "language": "python",
   "name": "python3"
  },
  "language_info": {
   "codemirror_mode": {
    "name": "ipython",
    "version": 3
   },
   "file_extension": ".py",
   "mimetype": "text/x-python",
   "name": "python",
   "nbconvert_exporter": "python",
   "pygments_lexer": "ipython3",
   "version": "3.7.0"
  },
  "latex_envs": {
   "LaTeX_envs_menu_present": true,
   "autoclose": true,
   "autocomplete": true,
   "bibliofile": "biblio.bib",
   "cite_by": "apalike",
   "current_citInitial": 1,
   "eqLabelWithNumbers": true,
   "eqNumInitial": 1,
   "hotkeys": {
    "equation": "Ctrl-E",
    "itemize": "Ctrl-I"
   },
   "labels_anchors": false,
   "latex_user_defs": false,
   "report_style_numbering": false,
   "user_envs_cfg": false
  }
 },
 "nbformat": 4,
 "nbformat_minor": 2
}
