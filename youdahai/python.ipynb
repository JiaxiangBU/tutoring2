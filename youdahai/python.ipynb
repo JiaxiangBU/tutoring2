{
 "cells": [
  {
   "cell_type": "code",
   "execution_count": 1,
   "metadata": {},
   "outputs": [
    {
     "ename": "SyntaxError",
     "evalue": "invalid syntax (<ipython-input-1-20bdb691db35>, line 5)",
     "output_type": "error",
     "traceback": [
      "\u001b[0;36m  File \u001b[0;32m\"<ipython-input-1-20bdb691db35>\"\u001b[0;36m, line \u001b[0;32m5\u001b[0m\n\u001b[0;31m    \"\"\" 从文件中获取城市 \"\"\"  file_name = 'cities.txt'\u001b[0m\n\u001b[0m                                              ^\u001b[0m\n\u001b[0;31mSyntaxError\u001b[0m\u001b[0;31m:\u001b[0m invalid syntax\n"
     ]
    }
   ],
   "source": [
    "# 全国有必胜客餐厅的城市, 我将城市放到文件中, 一共 380 个城市\n",
    "cities = []\n",
    "\n",
    "def get_cities():\n",
    "    \"\"\" 从文件中获取城市 \"\"\"  file_name = 'cities.txt'\n",
    "  with open(file_name, 'r', encoding='UTF-8-sig') as file:\n",
    "        for line in file:\n",
    "            city = line.replace('\\n', '')\n",
    "            cities.append(city)"
   ]
  },
  {
   "cell_type": "code",
   "execution_count": null,
   "metadata": {},
   "outputs": [],
   "source": [
    "# 依次遍历所有城市的餐厅\n",
    "for city in cities:\n",
    "    restaurants = get_stores(city, count)\n",
    "    results[city] = restaurants\n",
    "    count += 1\n",
    "  time.sleep(2)"
   ]
  }
 ],
 "metadata": {
  "kernelspec": {
   "display_name": "Python 2",
   "language": "python",
   "name": "python2"
  },
  "language_info": {
   "codemirror_mode": {
    "name": "ipython",
    "version": 2
   },
   "file_extension": ".py",
   "mimetype": "text/x-python",
   "name": "python",
   "nbconvert_exporter": "python",
   "pygments_lexer": "ipython2",
   "version": "2.7.15"
  }
 },
 "nbformat": 4,
 "nbformat_minor": 2
}
